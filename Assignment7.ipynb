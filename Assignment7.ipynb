{
 "cells": [
  {
   "cell_type": "code",
   "execution_count": 1,
   "id": "0d9682f0-8f66-4972-810d-c4441941ac8f",
   "metadata": {},
   "outputs": [],
   "source": [
    "import logging\n",
    "logging.basicConfig(filename=\"Assignment7.log\",level=logging.DEBUG)"
   ]
  },
  {
   "cell_type": "code",
   "execution_count": 2,
   "id": "f6205e26-8b25-4d17-8864-e4695eb44bf0",
   "metadata": {},
   "outputs": [
    {
     "name": "stdout",
     "output_type": "stream",
     "text": [
      "Abstraction is the process of hiding the internal details of an application from the outer world. Abstraction is used to describe things in simple terms. It's used to create a boundary between the application and the client programs.\n"
     ]
    }
   ],
   "source": [
    "#Q1. What is Abstraction in OOps? Explain with an example.\n",
    "logging.info(\"Abstraction is the process of hiding the internal details of an application from the outer world. Abstraction is used to describe things in simple terms. It's used to create a boundary between the application and the client programs.\")\n",
    "print(\"Abstraction is the process of hiding the internal details of an application from the outer world. Abstraction is used to describe things in simple terms. It's used to create a boundary between the application and the client programs.\")"
   ]
  },
  {
   "cell_type": "code",
   "execution_count": 3,
   "id": "8aefc7ba-0818-4695-bec8-866a6046a84f",
   "metadata": {},
   "outputs": [
    {
     "name": "stdout",
     "output_type": "stream",
     "text": [
      "Abstraction is hiding the details and implementation of the code.Encapsulation is hiding the data and controlling the visibility of the code.PhasAbstraction is a design level processEncapsulation is an implementation level process.Pivotal AbilityAbstraction is concerned about what a class instance can do, instead of the implementation of the class.Encapsulation helps in data binding and control over maintaining the transparency of the data.Use CaseAbstraction is a design level process and it is used to reduce the complexity at the designing stage of a project.Encapsulation is an implementation level process, and it is used to provide privacy and maintain control over the transparency of data at the implementation stage of a project.How to ImplementAbstraction can be achieved using class and interfaces in java.Encapsulation is also implemented using classes and the control over data privacy is obtained by specifying access specifiers like protected, public, private.Focus:The prominent difference between Encapsulation and Abstraction lies in the focus. Abstraction mainly focuses on what must be done, whereas encapsulation mainly focuses on how it must be done. Understanding this difference between Abstraction and Encapsulation in Python helps you to design solutions faster.Example:        You can better understand Encapsulation vs Abstraction with an example. Abstraction is used in mobile phones’ GUI. When you click on the icons, abstraction allows them to perform specific functions. Let’s look at the encapsulation example to clarify the Encapsulation vs Abstraction. After the icon is clicked, the encapsulation works in the backend to guide the user on the next steps.\n"
     ]
    }
   ],
   "source": [
    "#Q2. Differentiate between Abstraction and Encapsulation. Explain with an example.\n",
    "logging.info(\"Abstraction is hiding the details and implementation of the code.Encapsulation is hiding the data and controlling the visibility of the code.PhasAbstraction is a design level processEncapsulation is an implementation level process.Pivotal AbilityAbstraction is concerned about what a class instance can do, instead of the implementation of the class.Encapsulation helps in data binding and control over maintaining the transparency of the data.Use CaseAbstraction is a design level process and it is used to reduce the complexity at the designing stage of a project.Encapsulation is an implementation level process, and it is used to provide privacy and maintain control over the transparency of data at the implementation stage of a project.How to ImplementAbstraction can be achieved using class and interfaces in java.Encapsulation is also implemented using classes and the control over data privacy is obtained by specifying access specifiers like protected, public, private.Focus:The prominent difference between Encapsulation and Abstraction lies in the focus. Abstraction mainly focuses on what must be done, whereas encapsulation mainly focuses on how it must be done. Understanding this difference between Abstraction and Encapsulation in Python helps you to design solutions faster.Example:        You can better understand Encapsulation vs Abstraction with an example. Abstraction is used in mobile phones’ GUI. When you click on the icons, abstraction allows them to perform specific functions. Let’s look at the encapsulation example to clarify the Encapsulation vs Abstraction. After the icon is clicked, the encapsulation works in the backend to guide the user on the next steps.\")\n",
    "print(\"Abstraction is hiding the details and implementation of the code.Encapsulation is hiding the data and controlling the visibility of the code.PhasAbstraction is a design level processEncapsulation is an implementation level process.Pivotal AbilityAbstraction is concerned about what a class instance can do, instead of the implementation of the class.Encapsulation helps in data binding and control over maintaining the transparency of the data.Use CaseAbstraction is a design level process and it is used to reduce the complexity at the designing stage of a project.Encapsulation is an implementation level process, and it is used to provide privacy and maintain control over the transparency of data at the implementation stage of a project.How to ImplementAbstraction can be achieved using class and interfaces in java.Encapsulation is also implemented using classes and the control over data privacy is obtained by specifying access specifiers like protected, public, private.Focus:The prominent difference between Encapsulation and Abstraction lies in the focus. Abstraction mainly focuses on what must be done, whereas encapsulation mainly focuses on how it must be done. Understanding this difference between Abstraction and Encapsulation in Python helps you to design solutions faster.Example:        You can better understand Encapsulation vs Abstraction with an example. Abstraction is used in mobile phones’ GUI. When you click on the icons, abstraction allows them to perform specific functions. Let’s look at the encapsulation example to clarify the Encapsulation vs Abstraction. After the icon is clicked, the encapsulation works in the backend to guide the user on the next steps.\")"
   ]
  },
  {
   "cell_type": "code",
   "execution_count": 4,
   "id": "89f7a1a2-dc1b-4ba8-b347-a7f79b69b2ba",
   "metadata": {},
   "outputs": [
    {
     "name": "stdout",
     "output_type": "stream",
     "text": [
      "In python abc stands for abstract class whereAn abstract class is a class, but not one you can create objects from directly. Its purpose is to define how other classes should look like, i.e. what methods and properties they are expected to have.\n"
     ]
    }
   ],
   "source": [
    "#Q3. What is abc module in python? Why is it used?\n",
    "logging.info(\"In python abc stands for abstract class whereAn abstract class is a class, but not one you can create objects from directly. Its purpose is to define how other classes should look like, i.e. what methods and properties they are expected to have.\")\n",
    "print(\"In python abc stands for abstract class whereAn abstract class is a class, but not one you can create objects from directly. Its purpose is to define how other classes should look like, i.e. what methods and properties they are expected to have.\")"
   ]
  },
  {
   "cell_type": "code",
   "execution_count": 5,
   "id": "1c37919a-6dff-4ba2-86ca-eae3e2ea3029",
   "metadata": {},
   "outputs": [
    {
     "name": "stdout",
     "output_type": "stream",
     "text": [
      "        An abstract method is a method that is declared, but does not contain implementation. An abstract method in a base class identifies the functionality that should be implemented by all its subclasses. However, since the implementation of an abstract method would differ from one subclass to another, often the method body comprises just a pass statement. Every subclass of the base class will ride this method with its implementation. A class containing abstract methods is called abstract class.\n"
     ]
    }
   ],
   "source": [
    "#Q4. How can we achieve data abstraction?\n",
    "logging.info(\"An abstract method is a method that is declared, but does not contain implementation. An abstract method in a base class identifies the functionality that should be implemented by all its subclasses. However, since the implementation of an abstract method would differ from one subclass to another, often the method body comprises just a pass statement. Every subclass of the base class will ride this method with its implementation. A class containing abstract methods is called abstract class.\")\n",
    "print(\"        An abstract method is a method that is declared, but does not contain implementation. An abstract method in a base class identifies the functionality that should be implemented by all its subclasses. However, since the implementation of an abstract method would differ from one subclass to another, often the method body comprises just a pass statement. Every subclass of the base class will ride this method with its implementation. A class containing abstract methods is called abstract class.\")"
   ]
  },
  {
   "cell_type": "code",
   "execution_count": null,
   "id": "3ba0fa04-d409-4bfe-b595-2eac4abf4813",
   "metadata": {},
   "outputs": [],
   "source": [
    "#Q5. Can we create an instance of an abstract class? Explain your answer.\n",
    "logging.info(\"\")"
   ]
  }
 ],
 "metadata": {
  "kernelspec": {
   "display_name": "Python 3 (ipykernel)",
   "language": "python",
   "name": "python3"
  },
  "language_info": {
   "codemirror_mode": {
    "name": "ipython",
    "version": 3
   },
   "file_extension": ".py",
   "mimetype": "text/x-python",
   "name": "python",
   "nbconvert_exporter": "python",
   "pygments_lexer": "ipython3",
   "version": "3.10.8"
  }
 },
 "nbformat": 4,
 "nbformat_minor": 5
}
